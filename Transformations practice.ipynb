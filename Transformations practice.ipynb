{
 "cells": [
  {
   "cell_type": "code",
   "execution_count": 29,
   "id": "eee941ca-ef66-4b47-93e3-0596ab777f25",
   "metadata": {},
   "outputs": [],
   "source": [
    "## Standard Imports\n",
    "import numpy as np\n",
    "import pandas as pd\n",
    "import matplotlib.pyplot as plt\n",
    "import seaborn as sns\n",
    "## Importing the OS and JSON Modules\n",
    "import os,json"
   ]
  },
  {
   "cell_type": "code",
   "execution_count": 30,
   "id": "2f04dd22-ee1e-41bb-9aa4-2a683a9208e7",
   "metadata": {},
   "outputs": [
    {
     "data": {
      "text/html": [
       "<div>\n",
       "<style scoped>\n",
       "    .dataframe tbody tr th:only-of-type {\n",
       "        vertical-align: middle;\n",
       "    }\n",
       "\n",
       "    .dataframe tbody tr th {\n",
       "        vertical-align: top;\n",
       "    }\n",
       "\n",
       "    .dataframe thead th {\n",
       "        text-align: right;\n",
       "    }\n",
       "</style>\n",
       "<table border=\"1\" class=\"dataframe\">\n",
       "  <thead>\n",
       "    <tr style=\"text-align: right;\">\n",
       "      <th></th>\n",
       "      <th>id</th>\n",
       "      <th>alias</th>\n",
       "      <th>name</th>\n",
       "      <th>image_url</th>\n",
       "      <th>is_closed</th>\n",
       "      <th>url</th>\n",
       "      <th>review_count</th>\n",
       "      <th>categories</th>\n",
       "      <th>rating</th>\n",
       "      <th>coordinates</th>\n",
       "      <th>transactions</th>\n",
       "      <th>price</th>\n",
       "      <th>location</th>\n",
       "      <th>phone</th>\n",
       "      <th>display_phone</th>\n",
       "      <th>distance</th>\n",
       "    </tr>\n",
       "  </thead>\n",
       "  <tbody>\n",
       "    <tr>\n",
       "      <th>0</th>\n",
       "      <td>D9A33FM394q99o4QtK5YwA</td>\n",
       "      <td>faidleys-seafood-baltimore-3</td>\n",
       "      <td>Faidleys Seafood</td>\n",
       "      <td>https://s3-media3.fl.yelpcdn.com/bphoto/OTjVDC...</td>\n",
       "      <td>False</td>\n",
       "      <td>https://www.yelp.com/biz/faidleys-seafood-balt...</td>\n",
       "      <td>1181</td>\n",
       "      <td>[{'alias': 'seafood', 'title': 'Seafood'}, {'a...</td>\n",
       "      <td>4.0</td>\n",
       "      <td>{'latitude': 39.291696, 'longitude': -76.62224}</td>\n",
       "      <td>['delivery']</td>\n",
       "      <td>$$</td>\n",
       "      <td>{'address1': '203 N Paca St', 'address2': '', ...</td>\n",
       "      <td>1.410727e+10</td>\n",
       "      <td>(410) 727-4898</td>\n",
       "      <td>1349.560720</td>\n",
       "    </tr>\n",
       "    <tr>\n",
       "      <th>1</th>\n",
       "      <td>ieS_5zqxDHcWMCm8BKUYbg</td>\n",
       "      <td>thames-street-oyster-house-baltimore</td>\n",
       "      <td>Thames Street Oyster House</td>\n",
       "      <td>https://s3-media1.fl.yelpcdn.com/bphoto/9hGjo5...</td>\n",
       "      <td>False</td>\n",
       "      <td>https://www.yelp.com/biz/thames-street-oyster-...</td>\n",
       "      <td>2726</td>\n",
       "      <td>[{'alias': 'seafood', 'title': 'Seafood'}, {'a...</td>\n",
       "      <td>4.5</td>\n",
       "      <td>{'latitude': 39.28214, 'longitude': -76.59162}</td>\n",
       "      <td>['delivery']</td>\n",
       "      <td>$$$</td>\n",
       "      <td>{'address1': '1728 Thames St', 'address2': '',...</td>\n",
       "      <td>1.443450e+10</td>\n",
       "      <td>(443) 449-7726</td>\n",
       "      <td>2090.712792</td>\n",
       "    </tr>\n",
       "    <tr>\n",
       "      <th>2</th>\n",
       "      <td>u65W69AhbjUlvJJBkEhGNQ</td>\n",
       "      <td>miss-shirleys-cafe-baltimore-9</td>\n",
       "      <td>Miss Shirley's Cafe</td>\n",
       "      <td>https://s3-media4.fl.yelpcdn.com/bphoto/9FsOyV...</td>\n",
       "      <td>False</td>\n",
       "      <td>https://www.yelp.com/biz/miss-shirleys-cafe-ba...</td>\n",
       "      <td>2918</td>\n",
       "      <td>[{'alias': 'breakfast_brunch', 'title': 'Break...</td>\n",
       "      <td>4.0</td>\n",
       "      <td>{'latitude': 39.2870995, 'longitude': -76.6053...</td>\n",
       "      <td>['pickup', 'delivery']</td>\n",
       "      <td>$$</td>\n",
       "      <td>{'address1': '750 E Pratt St', 'address2': '',...</td>\n",
       "      <td>1.410529e+10</td>\n",
       "      <td>(410) 528-5373</td>\n",
       "      <td>1028.736468</td>\n",
       "    </tr>\n",
       "    <tr>\n",
       "      <th>3</th>\n",
       "      <td>6am8TZAFnvND52MOz-Yctg</td>\n",
       "      <td>mamas-on-the-half-shell-baltimore</td>\n",
       "      <td>Mama's On The Half Shell</td>\n",
       "      <td>https://s3-media2.fl.yelpcdn.com/bphoto/HWY8OF...</td>\n",
       "      <td>False</td>\n",
       "      <td>https://www.yelp.com/biz/mamas-on-the-half-she...</td>\n",
       "      <td>1277</td>\n",
       "      <td>[{'alias': 'bars', 'title': 'Bars'}, {'alias':...</td>\n",
       "      <td>4.0</td>\n",
       "      <td>{'latitude': 39.27986, 'longitude': -76.5752399}</td>\n",
       "      <td>['pickup', 'delivery']</td>\n",
       "      <td>$$</td>\n",
       "      <td>{'address1': '2901 Odonnell St', 'address2': '...</td>\n",
       "      <td>1.410276e+10</td>\n",
       "      <td>(410) 276-3160</td>\n",
       "      <td>3328.825798</td>\n",
       "    </tr>\n",
       "    <tr>\n",
       "      <th>4</th>\n",
       "      <td>p_XPpHiZbdOccx2jFUgZJA</td>\n",
       "      <td>the-local-oyster-baltimore</td>\n",
       "      <td>The Local Oyster</td>\n",
       "      <td>https://s3-media3.fl.yelpcdn.com/bphoto/u_33ay...</td>\n",
       "      <td>False</td>\n",
       "      <td>https://www.yelp.com/biz/the-local-oyster-balt...</td>\n",
       "      <td>217</td>\n",
       "      <td>[{'alias': 'seafood', 'title': 'Seafood'}, {'a...</td>\n",
       "      <td>4.0</td>\n",
       "      <td>{'latitude': 39.2958288, 'longitude': -76.6188...</td>\n",
       "      <td>['delivery']</td>\n",
       "      <td>$$</td>\n",
       "      <td>{'address1': '520 Park Ave', 'address2': None,...</td>\n",
       "      <td>1.844748e+10</td>\n",
       "      <td>(844) 748-2537</td>\n",
       "      <td>966.729941</td>\n",
       "    </tr>\n",
       "  </tbody>\n",
       "</table>\n",
       "</div>"
      ],
      "text/plain": [
       "                       id                                 alias  \\\n",
       "0  D9A33FM394q99o4QtK5YwA          faidleys-seafood-baltimore-3   \n",
       "1  ieS_5zqxDHcWMCm8BKUYbg  thames-street-oyster-house-baltimore   \n",
       "2  u65W69AhbjUlvJJBkEhGNQ        miss-shirleys-cafe-baltimore-9   \n",
       "3  6am8TZAFnvND52MOz-Yctg     mamas-on-the-half-shell-baltimore   \n",
       "4  p_XPpHiZbdOccx2jFUgZJA            the-local-oyster-baltimore   \n",
       "\n",
       "                         name  \\\n",
       "0            Faidleys Seafood   \n",
       "1  Thames Street Oyster House   \n",
       "2         Miss Shirley's Cafe   \n",
       "3    Mama's On The Half Shell   \n",
       "4            The Local Oyster   \n",
       "\n",
       "                                           image_url  is_closed  \\\n",
       "0  https://s3-media3.fl.yelpcdn.com/bphoto/OTjVDC...      False   \n",
       "1  https://s3-media1.fl.yelpcdn.com/bphoto/9hGjo5...      False   \n",
       "2  https://s3-media4.fl.yelpcdn.com/bphoto/9FsOyV...      False   \n",
       "3  https://s3-media2.fl.yelpcdn.com/bphoto/HWY8OF...      False   \n",
       "4  https://s3-media3.fl.yelpcdn.com/bphoto/u_33ay...      False   \n",
       "\n",
       "                                                 url  review_count  \\\n",
       "0  https://www.yelp.com/biz/faidleys-seafood-balt...          1181   \n",
       "1  https://www.yelp.com/biz/thames-street-oyster-...          2726   \n",
       "2  https://www.yelp.com/biz/miss-shirleys-cafe-ba...          2918   \n",
       "3  https://www.yelp.com/biz/mamas-on-the-half-she...          1277   \n",
       "4  https://www.yelp.com/biz/the-local-oyster-balt...           217   \n",
       "\n",
       "                                          categories  rating  \\\n",
       "0  [{'alias': 'seafood', 'title': 'Seafood'}, {'a...     4.0   \n",
       "1  [{'alias': 'seafood', 'title': 'Seafood'}, {'a...     4.5   \n",
       "2  [{'alias': 'breakfast_brunch', 'title': 'Break...     4.0   \n",
       "3  [{'alias': 'bars', 'title': 'Bars'}, {'alias':...     4.0   \n",
       "4  [{'alias': 'seafood', 'title': 'Seafood'}, {'a...     4.0   \n",
       "\n",
       "                                         coordinates            transactions  \\\n",
       "0    {'latitude': 39.291696, 'longitude': -76.62224}            ['delivery']   \n",
       "1     {'latitude': 39.28214, 'longitude': -76.59162}            ['delivery']   \n",
       "2  {'latitude': 39.2870995, 'longitude': -76.6053...  ['pickup', 'delivery']   \n",
       "3   {'latitude': 39.27986, 'longitude': -76.5752399}  ['pickup', 'delivery']   \n",
       "4  {'latitude': 39.2958288, 'longitude': -76.6188...            ['delivery']   \n",
       "\n",
       "  price                                           location         phone  \\\n",
       "0    $$  {'address1': '203 N Paca St', 'address2': '', ...  1.410727e+10   \n",
       "1   $$$  {'address1': '1728 Thames St', 'address2': '',...  1.443450e+10   \n",
       "2    $$  {'address1': '750 E Pratt St', 'address2': '',...  1.410529e+10   \n",
       "3    $$  {'address1': '2901 Odonnell St', 'address2': '...  1.410276e+10   \n",
       "4    $$  {'address1': '520 Park Ave', 'address2': None,...  1.844748e+10   \n",
       "\n",
       "    display_phone     distance  \n",
       "0  (410) 727-4898  1349.560720  \n",
       "1  (443) 449-7726  2090.712792  \n",
       "2  (410) 528-5373  1028.736468  \n",
       "3  (410) 276-3160  3328.825798  \n",
       "4  (844) 748-2537   966.729941  "
      ]
     },
     "execution_count": 30,
     "metadata": {},
     "output_type": "execute_result"
    }
   ],
   "source": [
    "# Read in title Basics.tsv\n",
    "basics_url =\"final_results_crab_cakes.csv.gz\"\n",
    "\n",
    "df = pd.read_csv(basics_url,  low_memory=False)\n",
    "df.head()"
   ]
  },
  {
   "cell_type": "code",
   "execution_count": 31,
   "id": "ba771db7-a84e-419b-a398-1c1f88cd953c",
   "metadata": {},
   "outputs": [
    {
     "data": {
      "text/plain": [
       "0    (410) 727-4898\n",
       "1    (443) 449-7726\n",
       "2    (410) 528-5373\n",
       "3    (410) 276-3160\n",
       "4    (844) 748-2537\n",
       "Name: display_phone, dtype: object"
      ]
     },
     "execution_count": 31,
     "metadata": {},
     "output_type": "execute_result"
    }
   ],
   "source": [
    "# Exploring existing format with a few examples\n",
    "df['display_phone'].head()\n",
    "\n"
   ]
  },
  {
   "cell_type": "code",
   "execution_count": 32,
   "id": "0431a9e9-17e1-40a4-a652-8cc4eb568ad0",
   "metadata": {},
   "outputs": [
    {
     "data": {
      "text/html": [
       "<div>\n",
       "<style scoped>\n",
       "    .dataframe tbody tr th:only-of-type {\n",
       "        vertical-align: middle;\n",
       "    }\n",
       "\n",
       "    .dataframe tbody tr th {\n",
       "        vertical-align: top;\n",
       "    }\n",
       "\n",
       "    .dataframe thead th {\n",
       "        text-align: right;\n",
       "    }\n",
       "</style>\n",
       "<table border=\"1\" class=\"dataframe\">\n",
       "  <thead>\n",
       "    <tr style=\"text-align: right;\">\n",
       "      <th></th>\n",
       "      <th>0</th>\n",
       "      <th>1</th>\n",
       "    </tr>\n",
       "  </thead>\n",
       "  <tbody>\n",
       "    <tr>\n",
       "      <th>0</th>\n",
       "      <td>(410)</td>\n",
       "      <td>727-4898</td>\n",
       "    </tr>\n",
       "    <tr>\n",
       "      <th>1</th>\n",
       "      <td>(443)</td>\n",
       "      <td>449-7726</td>\n",
       "    </tr>\n",
       "    <tr>\n",
       "      <th>2</th>\n",
       "      <td>(410)</td>\n",
       "      <td>528-5373</td>\n",
       "    </tr>\n",
       "    <tr>\n",
       "      <th>3</th>\n",
       "      <td>(410)</td>\n",
       "      <td>276-3160</td>\n",
       "    </tr>\n",
       "    <tr>\n",
       "      <th>4</th>\n",
       "      <td>(844)</td>\n",
       "      <td>748-2537</td>\n",
       "    </tr>\n",
       "    <tr>\n",
       "      <th>...</th>\n",
       "      <td>...</td>\n",
       "      <td>...</td>\n",
       "    </tr>\n",
       "    <tr>\n",
       "      <th>424</th>\n",
       "      <td>(410)</td>\n",
       "      <td>889-8891</td>\n",
       "    </tr>\n",
       "    <tr>\n",
       "      <th>425</th>\n",
       "      <td>(410)</td>\n",
       "      <td>235-2300</td>\n",
       "    </tr>\n",
       "    <tr>\n",
       "      <th>426</th>\n",
       "      <td>(410)</td>\n",
       "      <td>522-7757</td>\n",
       "    </tr>\n",
       "    <tr>\n",
       "      <th>427</th>\n",
       "      <td>(410)</td>\n",
       "      <td>889-3663</td>\n",
       "    </tr>\n",
       "    <tr>\n",
       "      <th>428</th>\n",
       "      <td>(410)</td>\n",
       "      <td>243-1301</td>\n",
       "    </tr>\n",
       "  </tbody>\n",
       "</table>\n",
       "<p>429 rows × 2 columns</p>\n",
       "</div>"
      ],
      "text/plain": [
       "         0         1\n",
       "0    (410)  727-4898\n",
       "1    (443)  449-7726\n",
       "2    (410)  528-5373\n",
       "3    (410)  276-3160\n",
       "4    (844)  748-2537\n",
       "..     ...       ...\n",
       "424  (410)  889-8891\n",
       "425  (410)  235-2300\n",
       "426  (410)  522-7757\n",
       "427  (410)  889-3663\n",
       "428  (410)  243-1301\n",
       "\n",
       "[429 rows x 2 columns]"
      ]
     },
     "execution_count": 32,
     "metadata": {},
     "output_type": "execute_result"
    }
   ],
   "source": [
    "## adding expand=True\n",
    "df['display_phone'].str.split(' ',expand=True)"
   ]
  },
  {
   "cell_type": "code",
   "execution_count": 33,
   "id": "57ce7df4-5fba-472e-a53f-4f287b620c04",
   "metadata": {},
   "outputs": [
    {
     "data": {
      "text/html": [
       "<div>\n",
       "<style scoped>\n",
       "    .dataframe tbody tr th:only-of-type {\n",
       "        vertical-align: middle;\n",
       "    }\n",
       "\n",
       "    .dataframe tbody tr th {\n",
       "        vertical-align: top;\n",
       "    }\n",
       "\n",
       "    .dataframe thead th {\n",
       "        text-align: right;\n",
       "    }\n",
       "</style>\n",
       "<table border=\"1\" class=\"dataframe\">\n",
       "  <thead>\n",
       "    <tr style=\"text-align: right;\">\n",
       "      <th></th>\n",
       "      <th>id</th>\n",
       "      <th>alias</th>\n",
       "      <th>name</th>\n",
       "      <th>image_url</th>\n",
       "      <th>is_closed</th>\n",
       "      <th>url</th>\n",
       "      <th>review_count</th>\n",
       "      <th>categories</th>\n",
       "      <th>rating</th>\n",
       "      <th>coordinates</th>\n",
       "      <th>transactions</th>\n",
       "      <th>price</th>\n",
       "      <th>location</th>\n",
       "      <th>phone</th>\n",
       "      <th>display_phone</th>\n",
       "      <th>distance</th>\n",
       "      <th>area_code</th>\n",
       "      <th>phone_number</th>\n",
       "    </tr>\n",
       "  </thead>\n",
       "  <tbody>\n",
       "    <tr>\n",
       "      <th>0</th>\n",
       "      <td>D9A33FM394q99o4QtK5YwA</td>\n",
       "      <td>faidleys-seafood-baltimore-3</td>\n",
       "      <td>Faidleys Seafood</td>\n",
       "      <td>https://s3-media3.fl.yelpcdn.com/bphoto/OTjVDC...</td>\n",
       "      <td>False</td>\n",
       "      <td>https://www.yelp.com/biz/faidleys-seafood-balt...</td>\n",
       "      <td>1181</td>\n",
       "      <td>[{'alias': 'seafood', 'title': 'Seafood'}, {'a...</td>\n",
       "      <td>4.0</td>\n",
       "      <td>{'latitude': 39.291696, 'longitude': -76.62224}</td>\n",
       "      <td>['delivery']</td>\n",
       "      <td>$$</td>\n",
       "      <td>{'address1': '203 N Paca St', 'address2': '', ...</td>\n",
       "      <td>1.410727e+10</td>\n",
       "      <td>(410) 727-4898</td>\n",
       "      <td>1349.560720</td>\n",
       "      <td>(410)</td>\n",
       "      <td>727-4898</td>\n",
       "    </tr>\n",
       "    <tr>\n",
       "      <th>1</th>\n",
       "      <td>ieS_5zqxDHcWMCm8BKUYbg</td>\n",
       "      <td>thames-street-oyster-house-baltimore</td>\n",
       "      <td>Thames Street Oyster House</td>\n",
       "      <td>https://s3-media1.fl.yelpcdn.com/bphoto/9hGjo5...</td>\n",
       "      <td>False</td>\n",
       "      <td>https://www.yelp.com/biz/thames-street-oyster-...</td>\n",
       "      <td>2726</td>\n",
       "      <td>[{'alias': 'seafood', 'title': 'Seafood'}, {'a...</td>\n",
       "      <td>4.5</td>\n",
       "      <td>{'latitude': 39.28214, 'longitude': -76.59162}</td>\n",
       "      <td>['delivery']</td>\n",
       "      <td>$$$</td>\n",
       "      <td>{'address1': '1728 Thames St', 'address2': '',...</td>\n",
       "      <td>1.443450e+10</td>\n",
       "      <td>(443) 449-7726</td>\n",
       "      <td>2090.712792</td>\n",
       "      <td>(443)</td>\n",
       "      <td>449-7726</td>\n",
       "    </tr>\n",
       "  </tbody>\n",
       "</table>\n",
       "</div>"
      ],
      "text/plain": [
       "                       id                                 alias  \\\n",
       "0  D9A33FM394q99o4QtK5YwA          faidleys-seafood-baltimore-3   \n",
       "1  ieS_5zqxDHcWMCm8BKUYbg  thames-street-oyster-house-baltimore   \n",
       "\n",
       "                         name  \\\n",
       "0            Faidleys Seafood   \n",
       "1  Thames Street Oyster House   \n",
       "\n",
       "                                           image_url  is_closed  \\\n",
       "0  https://s3-media3.fl.yelpcdn.com/bphoto/OTjVDC...      False   \n",
       "1  https://s3-media1.fl.yelpcdn.com/bphoto/9hGjo5...      False   \n",
       "\n",
       "                                                 url  review_count  \\\n",
       "0  https://www.yelp.com/biz/faidleys-seafood-balt...          1181   \n",
       "1  https://www.yelp.com/biz/thames-street-oyster-...          2726   \n",
       "\n",
       "                                          categories  rating  \\\n",
       "0  [{'alias': 'seafood', 'title': 'Seafood'}, {'a...     4.0   \n",
       "1  [{'alias': 'seafood', 'title': 'Seafood'}, {'a...     4.5   \n",
       "\n",
       "                                       coordinates  transactions price  \\\n",
       "0  {'latitude': 39.291696, 'longitude': -76.62224}  ['delivery']    $$   \n",
       "1   {'latitude': 39.28214, 'longitude': -76.59162}  ['delivery']   $$$   \n",
       "\n",
       "                                            location         phone  \\\n",
       "0  {'address1': '203 N Paca St', 'address2': '', ...  1.410727e+10   \n",
       "1  {'address1': '1728 Thames St', 'address2': '',...  1.443450e+10   \n",
       "\n",
       "    display_phone     distance area_code phone_number  \n",
       "0  (410) 727-4898  1349.560720     (410)     727-4898  \n",
       "1  (443) 449-7726  2090.712792     (443)     449-7726  "
      ]
     },
     "execution_count": 33,
     "metadata": {},
     "output_type": "execute_result"
    }
   ],
   "source": [
    "## save the 2 new columns into the dataframe\n",
    "df[['area_code','phone_number']] = df['display_phone'].str.split(' ',expand=True)\n",
    "df.head(2)\n"
   ]
  },
  {
   "cell_type": "code",
   "execution_count": 34,
   "id": "360417cb-42d4-486f-9a88-3f14153e36af",
   "metadata": {},
   "outputs": [
    {
     "data": {
      "text/html": [
       "<div>\n",
       "<style scoped>\n",
       "    .dataframe tbody tr th:only-of-type {\n",
       "        vertical-align: middle;\n",
       "    }\n",
       "\n",
       "    .dataframe tbody tr th {\n",
       "        vertical-align: top;\n",
       "    }\n",
       "\n",
       "    .dataframe thead th {\n",
       "        text-align: right;\n",
       "    }\n",
       "</style>\n",
       "<table border=\"1\" class=\"dataframe\">\n",
       "  <thead>\n",
       "    <tr style=\"text-align: right;\">\n",
       "      <th></th>\n",
       "      <th>id</th>\n",
       "      <th>alias</th>\n",
       "      <th>name</th>\n",
       "      <th>image_url</th>\n",
       "      <th>is_closed</th>\n",
       "      <th>url</th>\n",
       "      <th>review_count</th>\n",
       "      <th>categories</th>\n",
       "      <th>rating</th>\n",
       "      <th>coordinates</th>\n",
       "      <th>transactions</th>\n",
       "      <th>price</th>\n",
       "      <th>location</th>\n",
       "      <th>distance</th>\n",
       "      <th>area_code</th>\n",
       "      <th>phone_number</th>\n",
       "    </tr>\n",
       "  </thead>\n",
       "  <tbody>\n",
       "    <tr>\n",
       "      <th>0</th>\n",
       "      <td>D9A33FM394q99o4QtK5YwA</td>\n",
       "      <td>faidleys-seafood-baltimore-3</td>\n",
       "      <td>Faidleys Seafood</td>\n",
       "      <td>https://s3-media3.fl.yelpcdn.com/bphoto/OTjVDC...</td>\n",
       "      <td>False</td>\n",
       "      <td>https://www.yelp.com/biz/faidleys-seafood-balt...</td>\n",
       "      <td>1181</td>\n",
       "      <td>[{'alias': 'seafood', 'title': 'Seafood'}, {'a...</td>\n",
       "      <td>4.0</td>\n",
       "      <td>{'latitude': 39.291696, 'longitude': -76.62224}</td>\n",
       "      <td>['delivery']</td>\n",
       "      <td>$$</td>\n",
       "      <td>{'address1': '203 N Paca St', 'address2': '', ...</td>\n",
       "      <td>1349.560720</td>\n",
       "      <td>(410)</td>\n",
       "      <td>727-4898</td>\n",
       "    </tr>\n",
       "    <tr>\n",
       "      <th>1</th>\n",
       "      <td>ieS_5zqxDHcWMCm8BKUYbg</td>\n",
       "      <td>thames-street-oyster-house-baltimore</td>\n",
       "      <td>Thames Street Oyster House</td>\n",
       "      <td>https://s3-media1.fl.yelpcdn.com/bphoto/9hGjo5...</td>\n",
       "      <td>False</td>\n",
       "      <td>https://www.yelp.com/biz/thames-street-oyster-...</td>\n",
       "      <td>2726</td>\n",
       "      <td>[{'alias': 'seafood', 'title': 'Seafood'}, {'a...</td>\n",
       "      <td>4.5</td>\n",
       "      <td>{'latitude': 39.28214, 'longitude': -76.59162}</td>\n",
       "      <td>['delivery']</td>\n",
       "      <td>$$$</td>\n",
       "      <td>{'address1': '1728 Thames St', 'address2': '',...</td>\n",
       "      <td>2090.712792</td>\n",
       "      <td>(443)</td>\n",
       "      <td>449-7726</td>\n",
       "    </tr>\n",
       "  </tbody>\n",
       "</table>\n",
       "</div>"
      ],
      "text/plain": [
       "                       id                                 alias  \\\n",
       "0  D9A33FM394q99o4QtK5YwA          faidleys-seafood-baltimore-3   \n",
       "1  ieS_5zqxDHcWMCm8BKUYbg  thames-street-oyster-house-baltimore   \n",
       "\n",
       "                         name  \\\n",
       "0            Faidleys Seafood   \n",
       "1  Thames Street Oyster House   \n",
       "\n",
       "                                           image_url  is_closed  \\\n",
       "0  https://s3-media3.fl.yelpcdn.com/bphoto/OTjVDC...      False   \n",
       "1  https://s3-media1.fl.yelpcdn.com/bphoto/9hGjo5...      False   \n",
       "\n",
       "                                                 url  review_count  \\\n",
       "0  https://www.yelp.com/biz/faidleys-seafood-balt...          1181   \n",
       "1  https://www.yelp.com/biz/thames-street-oyster-...          2726   \n",
       "\n",
       "                                          categories  rating  \\\n",
       "0  [{'alias': 'seafood', 'title': 'Seafood'}, {'a...     4.0   \n",
       "1  [{'alias': 'seafood', 'title': 'Seafood'}, {'a...     4.5   \n",
       "\n",
       "                                       coordinates  transactions price  \\\n",
       "0  {'latitude': 39.291696, 'longitude': -76.62224}  ['delivery']    $$   \n",
       "1   {'latitude': 39.28214, 'longitude': -76.59162}  ['delivery']   $$$   \n",
       "\n",
       "                                            location     distance area_code  \\\n",
       "0  {'address1': '203 N Paca St', 'address2': '', ...  1349.560720     (410)   \n",
       "1  {'address1': '1728 Thames St', 'address2': '',...  2090.712792     (443)   \n",
       "\n",
       "  phone_number  \n",
       "0     727-4898  \n",
       "1     449-7726  "
      ]
     },
     "execution_count": 34,
     "metadata": {},
     "output_type": "execute_result"
    }
   ],
   "source": [
    "## drop the original column \n",
    "df = df.drop(columns=['display_phone', 'phone'])\n",
    "df.head(2)"
   ]
  },
  {
   "cell_type": "code",
   "execution_count": 35,
   "id": "47587684-8ed9-443d-a213-1c5afb0e81e0",
   "metadata": {},
   "outputs": [
    {
     "data": {
      "text/plain": [
       "0    410\n",
       "1    443\n",
       "2    410\n",
       "3    410\n",
       "4    844\n",
       "Name: area_code, dtype: object"
      ]
     },
     "execution_count": 35,
     "metadata": {},
     "output_type": "execute_result"
    }
   ],
   "source": [
    "# Make a list of all characters to replace\n",
    "to_replace = ['(',')']\n",
    "# run a loop to replace all of the characters in the list at once\n",
    "for char in to_replace:\n",
    "    df['area_code'] = df['area_code'].str.replace(char,'',regex=False)\n",
    "    \n",
    "df['area_code'].head()"
   ]
  },
  {
   "cell_type": "code",
   "execution_count": 36,
   "id": "519ccecd-5402-4ff0-a364-1aec637a8265",
   "metadata": {},
   "outputs": [
    {
     "name": "stdout",
     "output_type": "stream",
     "text": [
      "<class 'str'>\n"
     ]
    },
    {
     "data": {
      "text/plain": [
       "\"{'latitude': 39.291696, 'longitude': -76.62224}\""
      ]
     },
     "execution_count": 36,
     "metadata": {},
     "output_type": "execute_result"
    }
   ],
   "source": [
    "## examining a single value from the coordinates col\n",
    "coord = df.loc[0,\"coordinates\"]\n",
    "print(type(coord))\n",
    "coord"
   ]
  },
  {
   "cell_type": "code",
   "execution_count": 38,
   "id": "eba70df3-2367-432a-a95e-6ab20bb6a403",
   "metadata": {},
   "outputs": [
    {
     "data": {
      "text/plain": [
       "'{\"latitude\": 39.291696, \"longitude\": -76.62224}'"
      ]
     },
     "execution_count": 38,
     "metadata": {},
     "output_type": "execute_result"
    }
   ],
   "source": [
    "coord = coord.replace(\"'\",'\"')\n",
    "coord\n",
    "\n"
   ]
  },
  {
   "cell_type": "code",
   "execution_count": 39,
   "id": "d3158a97-5b06-4912-b6ac-9aadaf99bb31",
   "metadata": {},
   "outputs": [
    {
     "name": "stdout",
     "output_type": "stream",
     "text": [
      "<class 'dict'>\n"
     ]
    },
    {
     "data": {
      "text/plain": [
       "{'latitude': 39.291696, 'longitude': -76.62224}"
      ]
     },
     "execution_count": 39,
     "metadata": {},
     "output_type": "execute_result"
    }
   ],
   "source": [
    "import json\n",
    "## now we can use json.loads\n",
    "fixed_coord = json.loads(coord)\n",
    "print(type(fixed_coord))\n",
    "fixed_coord\n",
    "\n"
   ]
  },
  {
   "cell_type": "code",
   "execution_count": 40,
   "id": "502e6afe-307a-4872-9c74-3a3f886ce4c4",
   "metadata": {},
   "outputs": [
    {
     "data": {
      "text/plain": [
       "0      {'latitude': 39.291696, 'longitude': -76.62224}\n",
       "1       {'latitude': 39.28214, 'longitude': -76.59162}\n",
       "2    {'latitude': 39.2870995, 'longitude': -76.6053...\n",
       "3     {'latitude': 39.27986, 'longitude': -76.5752399}\n",
       "4    {'latitude': 39.2958288, 'longitude': -76.6188...\n",
       "Name: coordinates, dtype: object"
      ]
     },
     "execution_count": 40,
     "metadata": {},
     "output_type": "execute_result"
    }
   ],
   "source": [
    "## use .str.replace to replace all single quotes\n",
    "df['coordinates'] = df['coordinates'].str.replace(\"'\",'\"')\n",
    "## Apply the json.loads to the full column\n",
    "df['coordinates'] = df['coordinates'].apply(json.loads)\n",
    "df['coordinates'].head()\n",
    "\n"
   ]
  },
  {
   "cell_type": "code",
   "execution_count": 41,
   "id": "c1ccd51f-9bcd-40fd-bb33-a7828ad6bb58",
   "metadata": {},
   "outputs": [
    {
     "name": "stdout",
     "output_type": "stream",
     "text": [
      "<class 'dict'>\n"
     ]
    },
    {
     "data": {
      "text/plain": [
       "{'latitude': 39.291696, 'longitude': -76.62224}"
      ]
     },
     "execution_count": 41,
     "metadata": {},
     "output_type": "execute_result"
    }
   ],
   "source": [
    "## check a single value after transformation\n",
    "test_coord = df.loc[0, 'coordinates']\n",
    "print(type(test_coord))\n",
    "test_coord\n"
   ]
  },
  {
   "cell_type": "code",
   "execution_count": 42,
   "id": "655b280d-63e6-42b7-af57-63276e6111df",
   "metadata": {},
   "outputs": [
    {
     "data": {
      "text/html": [
       "<div>\n",
       "<style scoped>\n",
       "    .dataframe tbody tr th:only-of-type {\n",
       "        vertical-align: middle;\n",
       "    }\n",
       "\n",
       "    .dataframe tbody tr th {\n",
       "        vertical-align: top;\n",
       "    }\n",
       "\n",
       "    .dataframe thead th {\n",
       "        text-align: right;\n",
       "    }\n",
       "</style>\n",
       "<table border=\"1\" class=\"dataframe\">\n",
       "  <thead>\n",
       "    <tr style=\"text-align: right;\">\n",
       "      <th></th>\n",
       "      <th>latitude</th>\n",
       "      <th>longitude</th>\n",
       "    </tr>\n",
       "  </thead>\n",
       "  <tbody>\n",
       "    <tr>\n",
       "      <th>0</th>\n",
       "      <td>39.291696</td>\n",
       "      <td>-76.622240</td>\n",
       "    </tr>\n",
       "    <tr>\n",
       "      <th>1</th>\n",
       "      <td>39.282140</td>\n",
       "      <td>-76.591620</td>\n",
       "    </tr>\n",
       "    <tr>\n",
       "      <th>2</th>\n",
       "      <td>39.287099</td>\n",
       "      <td>-76.605366</td>\n",
       "    </tr>\n",
       "    <tr>\n",
       "      <th>3</th>\n",
       "      <td>39.279860</td>\n",
       "      <td>-76.575240</td>\n",
       "    </tr>\n",
       "    <tr>\n",
       "      <th>4</th>\n",
       "      <td>39.295829</td>\n",
       "      <td>-76.618891</td>\n",
       "    </tr>\n",
       "    <tr>\n",
       "      <th>...</th>\n",
       "      <td>...</td>\n",
       "      <td>...</td>\n",
       "    </tr>\n",
       "    <tr>\n",
       "      <th>424</th>\n",
       "      <td>39.330889</td>\n",
       "      <td>-76.634097</td>\n",
       "    </tr>\n",
       "    <tr>\n",
       "      <th>425</th>\n",
       "      <td>39.316500</td>\n",
       "      <td>-76.615560</td>\n",
       "    </tr>\n",
       "    <tr>\n",
       "      <th>426</th>\n",
       "      <td>39.281747</td>\n",
       "      <td>-76.581631</td>\n",
       "    </tr>\n",
       "    <tr>\n",
       "      <th>427</th>\n",
       "      <td>39.330860</td>\n",
       "      <td>-76.631610</td>\n",
       "    </tr>\n",
       "    <tr>\n",
       "      <th>428</th>\n",
       "      <td>39.330840</td>\n",
       "      <td>-76.633930</td>\n",
       "    </tr>\n",
       "  </tbody>\n",
       "</table>\n",
       "<p>429 rows × 2 columns</p>\n",
       "</div>"
      ],
      "text/plain": [
       "      latitude  longitude\n",
       "0    39.291696 -76.622240\n",
       "1    39.282140 -76.591620\n",
       "2    39.287099 -76.605366\n",
       "3    39.279860 -76.575240\n",
       "4    39.295829 -76.618891\n",
       "..         ...        ...\n",
       "424  39.330889 -76.634097\n",
       "425  39.316500 -76.615560\n",
       "426  39.281747 -76.581631\n",
       "427  39.330860 -76.631610\n",
       "428  39.330840 -76.633930\n",
       "\n",
       "[429 rows x 2 columns]"
      ]
     },
     "execution_count": 42,
     "metadata": {},
     "output_type": "execute_result"
    }
   ],
   "source": [
    "lat_long = df['coordinates'].apply(pd.Series)\n",
    "lat_long\n",
    "\n"
   ]
  },
  {
   "cell_type": "code",
   "execution_count": 43,
   "id": "8107c702-8557-422c-b6c1-e9bb13931269",
   "metadata": {},
   "outputs": [
    {
     "data": {
      "text/html": [
       "<div>\n",
       "<style scoped>\n",
       "    .dataframe tbody tr th:only-of-type {\n",
       "        vertical-align: middle;\n",
       "    }\n",
       "\n",
       "    .dataframe tbody tr th {\n",
       "        vertical-align: top;\n",
       "    }\n",
       "\n",
       "    .dataframe thead th {\n",
       "        text-align: right;\n",
       "    }\n",
       "</style>\n",
       "<table border=\"1\" class=\"dataframe\">\n",
       "  <thead>\n",
       "    <tr style=\"text-align: right;\">\n",
       "      <th></th>\n",
       "      <th>id</th>\n",
       "      <th>alias</th>\n",
       "      <th>name</th>\n",
       "      <th>image_url</th>\n",
       "      <th>is_closed</th>\n",
       "      <th>url</th>\n",
       "      <th>review_count</th>\n",
       "      <th>categories</th>\n",
       "      <th>rating</th>\n",
       "      <th>coordinates</th>\n",
       "      <th>transactions</th>\n",
       "      <th>price</th>\n",
       "      <th>location</th>\n",
       "      <th>distance</th>\n",
       "      <th>area_code</th>\n",
       "      <th>phone_number</th>\n",
       "      <th>latitude</th>\n",
       "      <th>longitude</th>\n",
       "    </tr>\n",
       "  </thead>\n",
       "  <tbody>\n",
       "    <tr>\n",
       "      <th>0</th>\n",
       "      <td>D9A33FM394q99o4QtK5YwA</td>\n",
       "      <td>faidleys-seafood-baltimore-3</td>\n",
       "      <td>Faidleys Seafood</td>\n",
       "      <td>https://s3-media3.fl.yelpcdn.com/bphoto/OTjVDC...</td>\n",
       "      <td>False</td>\n",
       "      <td>https://www.yelp.com/biz/faidleys-seafood-balt...</td>\n",
       "      <td>1181</td>\n",
       "      <td>[{'alias': 'seafood', 'title': 'Seafood'}, {'a...</td>\n",
       "      <td>4.0</td>\n",
       "      <td>{'latitude': 39.291696, 'longitude': -76.62224}</td>\n",
       "      <td>['delivery']</td>\n",
       "      <td>$$</td>\n",
       "      <td>{'address1': '203 N Paca St', 'address2': '', ...</td>\n",
       "      <td>1349.560720</td>\n",
       "      <td>410</td>\n",
       "      <td>727-4898</td>\n",
       "      <td>39.291696</td>\n",
       "      <td>-76.62224</td>\n",
       "    </tr>\n",
       "    <tr>\n",
       "      <th>1</th>\n",
       "      <td>ieS_5zqxDHcWMCm8BKUYbg</td>\n",
       "      <td>thames-street-oyster-house-baltimore</td>\n",
       "      <td>Thames Street Oyster House</td>\n",
       "      <td>https://s3-media1.fl.yelpcdn.com/bphoto/9hGjo5...</td>\n",
       "      <td>False</td>\n",
       "      <td>https://www.yelp.com/biz/thames-street-oyster-...</td>\n",
       "      <td>2726</td>\n",
       "      <td>[{'alias': 'seafood', 'title': 'Seafood'}, {'a...</td>\n",
       "      <td>4.5</td>\n",
       "      <td>{'latitude': 39.28214, 'longitude': -76.59162}</td>\n",
       "      <td>['delivery']</td>\n",
       "      <td>$$$</td>\n",
       "      <td>{'address1': '1728 Thames St', 'address2': '',...</td>\n",
       "      <td>2090.712792</td>\n",
       "      <td>443</td>\n",
       "      <td>449-7726</td>\n",
       "      <td>39.282140</td>\n",
       "      <td>-76.59162</td>\n",
       "    </tr>\n",
       "  </tbody>\n",
       "</table>\n",
       "</div>"
      ],
      "text/plain": [
       "                       id                                 alias  \\\n",
       "0  D9A33FM394q99o4QtK5YwA          faidleys-seafood-baltimore-3   \n",
       "1  ieS_5zqxDHcWMCm8BKUYbg  thames-street-oyster-house-baltimore   \n",
       "\n",
       "                         name  \\\n",
       "0            Faidleys Seafood   \n",
       "1  Thames Street Oyster House   \n",
       "\n",
       "                                           image_url  is_closed  \\\n",
       "0  https://s3-media3.fl.yelpcdn.com/bphoto/OTjVDC...      False   \n",
       "1  https://s3-media1.fl.yelpcdn.com/bphoto/9hGjo5...      False   \n",
       "\n",
       "                                                 url  review_count  \\\n",
       "0  https://www.yelp.com/biz/faidleys-seafood-balt...          1181   \n",
       "1  https://www.yelp.com/biz/thames-street-oyster-...          2726   \n",
       "\n",
       "                                          categories  rating  \\\n",
       "0  [{'alias': 'seafood', 'title': 'Seafood'}, {'a...     4.0   \n",
       "1  [{'alias': 'seafood', 'title': 'Seafood'}, {'a...     4.5   \n",
       "\n",
       "                                       coordinates  transactions price  \\\n",
       "0  {'latitude': 39.291696, 'longitude': -76.62224}  ['delivery']    $$   \n",
       "1   {'latitude': 39.28214, 'longitude': -76.59162}  ['delivery']   $$$   \n",
       "\n",
       "                                            location     distance area_code  \\\n",
       "0  {'address1': '203 N Paca St', 'address2': '', ...  1349.560720       410   \n",
       "1  {'address1': '1728 Thames St', 'address2': '',...  2090.712792       443   \n",
       "\n",
       "  phone_number   latitude  longitude  \n",
       "0     727-4898  39.291696  -76.62224  \n",
       "1     449-7726  39.282140  -76.59162  "
      ]
     },
     "execution_count": 43,
     "metadata": {},
     "output_type": "execute_result"
    }
   ],
   "source": [
    "# concat long_lat with original dataframe\n",
    "df = pd.concat((df, lat_long), axis = 1)\n",
    "df.head(2)\n"
   ]
  },
  {
   "cell_type": "code",
   "execution_count": 44,
   "id": "994d94c4-f45c-4ec9-92f1-352c816a1975",
   "metadata": {},
   "outputs": [],
   "source": [
    "df = df.drop(columns=['coordinates'])\n"
   ]
  },
  {
   "cell_type": "code",
   "execution_count": 45,
   "id": "58d2cd38-8968-4a33-b135-741c817241fd",
   "metadata": {},
   "outputs": [],
   "source": [
    "df2 = df.copy()"
   ]
  },
  {
   "cell_type": "code",
   "execution_count": 46,
   "id": "0564d556-c0db-48b7-93db-9948f0d2768d",
   "metadata": {},
   "outputs": [
    {
     "data": {
      "text/plain": [
       "\"['pickup', 'delivery']\""
      ]
     },
     "execution_count": 46,
     "metadata": {},
     "output_type": "execute_result"
    }
   ],
   "source": [
    "## showing the lists are really strings\n",
    "df2.loc[2,'transactions']\n",
    "\n"
   ]
  },
  {
   "cell_type": "code",
   "execution_count": 47,
   "id": "06e8c457-2039-4ae5-add3-3dabe8369e77",
   "metadata": {},
   "outputs": [
    {
     "name": "stdout",
     "output_type": "stream",
     "text": [
      "<class 'str'>\n"
     ]
    },
    {
     "data": {
      "text/plain": [
       "\"['delivery']\""
      ]
     },
     "execution_count": 47,
     "metadata": {},
     "output_type": "execute_result"
    }
   ],
   "source": [
    "## examining a single value from the coordinates col\n",
    "trans = df2.loc[0,\"transactions\"]\n",
    "print(type(trans))\n",
    "trans\n"
   ]
  },
  {
   "cell_type": "code",
   "execution_count": 25,
   "id": "a796d5da-61dc-46b1-aba5-4dbbae709ea2",
   "metadata": {},
   "outputs": [],
   "source": [
    "# Create a new column where the single quotes are replaced by double quotes\n",
    "df['transactions_split'] = df['transactions'].str.replace(\"'\",'\"')"
   ]
  },
  {
   "cell_type": "code",
   "execution_count": 26,
   "id": "da6dda3b-5e57-4188-8189-3d76b9fa32b1",
   "metadata": {},
   "outputs": [
    {
     "data": {
      "text/plain": [
       "0            [delivery]\n",
       "1            [delivery]\n",
       "2    [pickup, delivery]\n",
       "3    [pickup, delivery]\n",
       "4            [delivery]\n",
       "Name: transactions_split, dtype: object"
      ]
     },
     "execution_count": 26,
     "metadata": {},
     "output_type": "execute_result"
    }
   ],
   "source": [
    "# Apply json.loads to entire column\n",
    "df['transactions_split'] = df['transactions_split'].apply(json.loads)\n",
    "# check results\n",
    "df['transactions_split'].head()"
   ]
  },
  {
   "cell_type": "code",
   "execution_count": 27,
   "id": "706e2bcd-e81f-4cd1-9ca4-3db4ca06ff32",
   "metadata": {},
   "outputs": [
    {
     "data": {
      "text/plain": [
       "[delivery, pickup]                            119\n",
       "[pickup, delivery]                            107\n",
       "[delivery]                                    105\n",
       "[]                                             86\n",
       "[pickup]                                        6\n",
       "[pickup, delivery, restaurant_reservation]      2\n",
       "[delivery, pickup, restaurant_reservation]      2\n",
       "[restaurant_reservation]                        2\n",
       "Name: transactions_split, dtype: int64"
      ]
     },
     "execution_count": 27,
     "metadata": {},
     "output_type": "execute_result"
    }
   ],
   "source": [
    "df['transactions_split'].value_counts()"
   ]
  },
  {
   "cell_type": "code",
   "execution_count": 28,
   "id": "5f6597d1-bd3e-4077-85de-d246ea9a1ad2",
   "metadata": {},
   "outputs": [
    {
     "data": {
      "text/html": [
       "<div>\n",
       "<style scoped>\n",
       "    .dataframe tbody tr th:only-of-type {\n",
       "        vertical-align: middle;\n",
       "    }\n",
       "\n",
       "    .dataframe tbody tr th {\n",
       "        vertical-align: top;\n",
       "    }\n",
       "\n",
       "    .dataframe thead th {\n",
       "        text-align: right;\n",
       "    }\n",
       "</style>\n",
       "<table border=\"1\" class=\"dataframe\">\n",
       "  <thead>\n",
       "    <tr style=\"text-align: right;\">\n",
       "      <th></th>\n",
       "      <th>name</th>\n",
       "      <th>transactions</th>\n",
       "      <th>transactions_split</th>\n",
       "    </tr>\n",
       "  </thead>\n",
       "  <tbody>\n",
       "    <tr>\n",
       "      <th>0</th>\n",
       "      <td>Faidleys Seafood</td>\n",
       "      <td>['delivery']</td>\n",
       "      <td>delivery</td>\n",
       "    </tr>\n",
       "    <tr>\n",
       "      <th>1</th>\n",
       "      <td>Thames Street Oyster House</td>\n",
       "      <td>['delivery']</td>\n",
       "      <td>delivery</td>\n",
       "    </tr>\n",
       "    <tr>\n",
       "      <th>2</th>\n",
       "      <td>Miss Shirley's Cafe</td>\n",
       "      <td>['pickup', 'delivery']</td>\n",
       "      <td>pickup</td>\n",
       "    </tr>\n",
       "    <tr>\n",
       "      <th>2</th>\n",
       "      <td>Miss Shirley's Cafe</td>\n",
       "      <td>['pickup', 'delivery']</td>\n",
       "      <td>delivery</td>\n",
       "    </tr>\n",
       "    <tr>\n",
       "      <th>3</th>\n",
       "      <td>Mama's On The Half Shell</td>\n",
       "      <td>['pickup', 'delivery']</td>\n",
       "      <td>pickup</td>\n",
       "    </tr>\n",
       "  </tbody>\n",
       "</table>\n",
       "</div>"
      ],
      "text/plain": [
       "                         name            transactions transactions_split\n",
       "0            Faidleys Seafood            ['delivery']           delivery\n",
       "1  Thames Street Oyster House            ['delivery']           delivery\n",
       "2         Miss Shirley's Cafe  ['pickup', 'delivery']             pickup\n",
       "2         Miss Shirley's Cafe  ['pickup', 'delivery']           delivery\n",
       "3    Mama's On The Half Shell  ['pickup', 'delivery']             pickup"
      ]
     },
     "execution_count": 28,
     "metadata": {},
     "output_type": "execute_result"
    }
   ],
   "source": [
    "## exploding the column of lists\n",
    "exploded = df.explode('transactions_split')\n",
    "exploded[['name','transactions','transactions_split']].head(5)\n",
    "\n"
   ]
  },
  {
   "cell_type": "code",
   "execution_count": null,
   "id": "16780d2d-86c3-4fa6-98db-cf7a2aec9a38",
   "metadata": {},
   "outputs": [],
   "source": []
  }
 ],
 "metadata": {
  "kernelspec": {
   "display_name": "Python (dojo-env)",
   "language": "python",
   "name": "dojo-env"
  },
  "language_info": {
   "codemirror_mode": {
    "name": "ipython",
    "version": 3
   },
   "file_extension": ".py",
   "mimetype": "text/x-python",
   "name": "python",
   "nbconvert_exporter": "python",
   "pygments_lexer": "ipython3",
   "version": "3.10.10"
  }
 },
 "nbformat": 4,
 "nbformat_minor": 5
}
